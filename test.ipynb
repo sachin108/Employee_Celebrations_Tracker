{
 "cells": [
  {
   "cell_type": "code",
   "execution_count": 1,
   "metadata": {},
   "outputs": [],
   "source": [
    "import pandas as pd\n",
    "\n",
    "df = pd.read_excel('Employee_data.xlsx', header=0)\n",
    "employee_data = []\n",
    "for _, row in df.iterrows():\n",
    "    name = row['Name']\n",
    "    birthdate = row['Birth_Date']\n",
    "    hire_date = row['Joining_Date']\n",
    "    email = row['Email_ID']\n",
    "\n",
    "    employee_data.append({'name': name, 'birthdate': birthdate, 'hire_date': hire_date, 'email': email})\n"
   ]
  }
 ],
 "metadata": {
  "kernelspec": {
   "display_name": "Python 3",
   "language": "python",
   "name": "python3"
  },
  "language_info": {
   "codemirror_mode": {
    "name": "ipython",
    "version": 3
   },
   "file_extension": ".py",
   "mimetype": "text/x-python",
   "name": "python",
   "nbconvert_exporter": "python",
   "pygments_lexer": "ipython3",
   "version": "3.11.4"
  },
  "orig_nbformat": 4
 },
 "nbformat": 4,
 "nbformat_minor": 2
}
